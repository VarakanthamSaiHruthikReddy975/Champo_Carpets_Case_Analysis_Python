{
 "cells": [
  {
   "cell_type": "code",
   "execution_count": 4,
   "id": "9f0f2d11",
   "metadata": {},
   "outputs": [],
   "source": [
    "# Markdown in this area required"
   ]
  },
  {
   "cell_type": "code",
   "execution_count": 5,
   "id": "859a4dc2",
   "metadata": {},
   "outputs": [],
   "source": [
    "#Importing the required packages and getting the xlsx file\n",
    "import pandas as pd\n",
    " \n",
    "#Storing the file path in our desktop\n",
    "file_path = '~/Desktop/CompleteDataAnalysis/ChampoCarpetsCase/Champo.xlsx'"
   ]
  },
  {
   "cell_type": "code",
   "execution_count": 6,
   "id": "0e82c3b9",
   "metadata": {},
   "outputs": [
    {
     "name": "stdout",
     "output_type": "stream",
     "text": [
      "['Copyright @ IIMB', 'Raw Data-Order and Sample', 'Data Order ONLY', 'Data on Sample ONLY', 'Data for Recommendation', 'Data for Clustering', 'Data - Association Rules A-11 ']\n"
     ]
    }
   ],
   "source": [
    "# We can print all of our sheet names after traversing through the xlsx file\n",
    "xls = pd.ExcelFile(file_path)\n",
    "print(xls.sheet_names)"
   ]
  },
  {
   "cell_type": "code",
   "execution_count": 7,
   "id": "d2124d1a",
   "metadata": {},
   "outputs": [],
   "source": [
    "#Loading all of our sheets data into seperate variables\n",
    "\n",
    "RawDataOrder = pd.read_excel(file_path, sheet_name = 'Raw Data-Order and Sample')\n",
    "DataOrderOnly = pd.read_excel(file_path, sheet_name = 'Data Order ONLY')\n",
    "DataOnSampleOnly = pd.read_excel(file_path, sheet_name = 'Data on Sample ONLY')\n",
    "RecommendationData = pd.read_excel(file_path, sheet_name = 'Data for Recommendation')\n",
    "ClusteringData = pd.read_excel(file_path, sheet_name = 'Data for Clustering')\n",
    "AssocRulesData = pd.read_excel(file_path, sheet_name = 'Data - Association Rules A-11 ')\n"
   ]
  },
  {
   "cell_type": "code",
   "execution_count": 8,
   "id": "78e03efd",
   "metadata": {},
   "outputs": [
    {
     "name": "stdout",
     "output_type": "stream",
     "text": [
      "Sheet Name: Raw Data-Order and Sample\n",
      "<class 'pandas.core.frame.DataFrame'>\n",
      "RangeIndex: 18955 entries, 0 to 18954\n",
      "Data columns (total 16 columns):\n",
      " #   Column           Non-Null Count  Dtype         \n",
      "---  ------           --------------  -----         \n",
      " 0   OrderType        18955 non-null  object        \n",
      " 1   OrderCategory    18955 non-null  object        \n",
      " 2   CustomerCode     18955 non-null  object        \n",
      " 3   CountryName      18955 non-null  object        \n",
      " 4   CustomerOrderNo  18946 non-null  object        \n",
      " 5   Custorderdate    18955 non-null  datetime64[ns]\n",
      " 6   UnitName         18955 non-null  object        \n",
      " 7   QtyRequired      18955 non-null  int64         \n",
      " 8   TotalArea        18955 non-null  float64       \n",
      " 9   Amount           18955 non-null  float64       \n",
      " 10  ITEM_NAME        18955 non-null  object        \n",
      " 11  QualityName      18955 non-null  object        \n",
      " 12  DesignName       18955 non-null  object        \n",
      " 13  ColorName        18955 non-null  object        \n",
      " 14  ShapeName        18955 non-null  object        \n",
      " 15  AreaFt           18955 non-null  float64       \n",
      "dtypes: datetime64[ns](1), float64(3), int64(1), object(11)\n",
      "memory usage: 2.3+ MB\n",
      "\n",
      "==================================================\n",
      "\n",
      "Sheet Name: Data Order ONLY\n",
      "<class 'pandas.core.frame.DataFrame'>\n",
      "RangeIndex: 13135 entries, 0 to 13134\n",
      "Data columns (total 12 columns):\n",
      " #   Column        Non-Null Count  Dtype  \n",
      "---  ------        --------------  -----  \n",
      " 0   CustomerCode  13135 non-null  object \n",
      " 1   CountryName   13135 non-null  object \n",
      " 2   QtyRequired   13135 non-null  int64  \n",
      " 3   TotalArea     13135 non-null  float64\n",
      " 4   Amount        13135 non-null  float64\n",
      " 5   ITEM_NAME     13135 non-null  object \n",
      " 6   QualityName   13135 non-null  object \n",
      " 7   DesignName    13135 non-null  object \n",
      " 8   ColorName     13135 non-null  object \n",
      " 9   ShapeName     13135 non-null  object \n",
      " 10  AreaFt        13135 non-null  float64\n",
      " 11  AreaMtr       13135 non-null  float64\n",
      "dtypes: float64(4), int64(1), object(7)\n",
      "memory usage: 1.2+ MB\n",
      "\n",
      "==================================================\n",
      "\n",
      "Sheet Name: Data on Sample ONLY\n",
      "<class 'pandas.core.frame.DataFrame'>\n",
      "RangeIndex: 5820 entries, 0 to 5819\n",
      "Data columns (total 25 columns):\n",
      " #   Column            Non-Null Count  Dtype  \n",
      "---  ------            --------------  -----  \n",
      " 0   CustomerCode      5820 non-null   object \n",
      " 1   CountryName       5820 non-null   object \n",
      " 2   USA               5781 non-null   float64\n",
      " 3   UK                5781 non-null   float64\n",
      " 4   Italy             5781 non-null   float64\n",
      " 5   Belgium           5781 non-null   float64\n",
      " 6   Romania           5781 non-null   float64\n",
      " 7   Australia         5781 non-null   float64\n",
      " 8   India             5781 non-null   float64\n",
      " 9   QtyRequired       5820 non-null   int64  \n",
      " 10  ITEM_NAME         5820 non-null   object \n",
      " 11  Hand Tufted       5820 non-null   int64  \n",
      " 12  Durry             5820 non-null   int64  \n",
      " 13  Double Back       5820 non-null   int64  \n",
      " 14  Hand Woven        5820 non-null   int64  \n",
      " 15  Knotted           5820 non-null   int64  \n",
      " 16  Jacquard          5820 non-null   int64  \n",
      " 17  Handloom          5820 non-null   int64  \n",
      " 18  Other             5820 non-null   int64  \n",
      " 19  ShapeName         5820 non-null   object \n",
      " 20  REC               5820 non-null   int64  \n",
      " 21  Round             5820 non-null   int64  \n",
      " 22  Square            5820 non-null   int64  \n",
      " 23  AreaFt            5820 non-null   float64\n",
      " 24  Order Conversion  5820 non-null   int64  \n",
      "dtypes: float64(8), int64(13), object(4)\n",
      "memory usage: 1.1+ MB\n",
      "\n",
      "==================================================\n",
      "\n",
      "Sheet Name: Data for Recommendation\n",
      "<class 'pandas.core.frame.DataFrame'>\n",
      "RangeIndex: 20 entries, 0 to 19\n",
      "Data columns (total 44 columns):\n",
      " #   Column        Non-Null Count  Dtype  \n",
      "---  ------        --------------  -----  \n",
      " 0   Customer      20 non-null     object \n",
      " 1   Hand Tufted   20 non-null     int64  \n",
      " 2   Double Wowen  20 non-null     int64  \n",
      " 3   Durry         20 non-null     int64  \n",
      " 4   Double Back   20 non-null     int64  \n",
      " 5   Knotted       20 non-null     int64  \n",
      " 6   Jacquared     20 non-null     int64  \n",
      " 7   Handloom      20 non-null     int64  \n",
      " 8   Other         20 non-null     int64  \n",
      " 9   Rectangle     20 non-null     int64  \n",
      " 10  Square        20 non-null     int64  \n",
      " 11  Round         20 non-null     int64  \n",
      " 12  Purple        20 non-null     int64  \n",
      " 13  Gray          20 non-null     int64  \n",
      " 14  Navy          20 non-null     int64  \n",
      " 15  PINK          20 non-null     int64  \n",
      " 16  BLUE          20 non-null     int64  \n",
      " 17  BLUSH PINK    20 non-null     int64  \n",
      " 18  NEUTRAL       20 non-null     int64  \n",
      " 19  TAN           20 non-null     int64  \n",
      " 20  NAVY          20 non-null     int64  \n",
      " 21  Unnamed: 21   0 non-null      float64\n",
      " 22  Unnamed: 22   0 non-null      float64\n",
      " 23  Customer .1   20 non-null     object \n",
      " 24  H-2           20 non-null     int64  \n",
      " 25  P-5           20 non-null     int64  \n",
      " 26  M-1           20 non-null     int64  \n",
      " 27  A-9           20 non-null     int64  \n",
      " 28  C-2           20 non-null     int64  \n",
      " 29  JL            20 non-null     int64  \n",
      " 30  N-1           20 non-null     int64  \n",
      " 31  T-5           20 non-null     int64  \n",
      " 32  C-1           20 non-null     int64  \n",
      " 33  T-2           20 non-null     int64  \n",
      " 34  I-2           20 non-null     int64  \n",
      " 35  PD            20 non-null     int64  \n",
      " 36  L-5           20 non-null     int64  \n",
      " 37  M-2           20 non-null     int64  \n",
      " 38  RC            20 non-null     int64  \n",
      " 39  P-4           20 non-null     int64  \n",
      " 40  T-4           20 non-null     int64  \n",
      " 41  PC            20 non-null     int64  \n",
      " 42  A-11          20 non-null     int64  \n",
      " 43  CC            20 non-null     int64  \n",
      "dtypes: float64(2), int64(40), object(2)\n",
      "memory usage: 7.0+ KB\n",
      "\n",
      "==================================================\n",
      "\n",
      "Sheet Name: Data for Clustering\n",
      "<class 'pandas.core.frame.DataFrame'>\n",
      "RangeIndex: 45 entries, 0 to 44\n",
      "Data columns (total 14 columns):\n",
      " #   Column              Non-Null Count  Dtype  \n",
      "---  ------              --------------  -----  \n",
      " 0   Row Labels          45 non-null     object \n",
      " 1   Sum of QtyRequired  45 non-null     int64  \n",
      " 2   Sum of TotalArea    45 non-null     float64\n",
      " 3   Sum of Amount       45 non-null     float64\n",
      " 4   DURRY               45 non-null     int64  \n",
      " 5   HANDLOOM            45 non-null     int64  \n",
      " 6   DOUBLE BACK         45 non-null     int64  \n",
      " 7   JACQUARD            45 non-null     int64  \n",
      " 8   HAND TUFTED         45 non-null     int64  \n",
      " 9   HAND WOVEN          45 non-null     int64  \n",
      " 10  KNOTTED             45 non-null     int64  \n",
      " 11  GUN TUFTED          45 non-null     int64  \n",
      " 12  Powerloom Jacquard  45 non-null     int64  \n",
      " 13  INDO TEBETAN        45 non-null     int64  \n",
      "dtypes: float64(2), int64(11), object(1)\n",
      "memory usage: 5.1+ KB\n",
      "\n",
      "==================================================\n",
      "\n",
      "Sheet Name: Data - Association Rules A-11 \n",
      "<class 'pandas.core.frame.DataFrame'>\n",
      "RangeIndex: 11 entries, 0 to 10\n",
      "Data columns (total 17 columns):\n",
      " #   Column        Non-Null Count  Dtype  \n",
      "---  ------        --------------  -----  \n",
      " 0   Order No      11 non-null     int64  \n",
      " 1   BEIGE         11 non-null     int64  \n",
      " 2   CHARCOAL      11 non-null     int64  \n",
      " 3   DENIM         11 non-null     int64  \n",
      " 4   DK GREY       11 non-null     int64  \n",
      " 5   LT TURQUOISE  11 non-null     int64  \n",
      " 6   MID GREY      11 non-null     int64  \n",
      " 7   OLIVE GREEN   11 non-null     int64  \n",
      " 8   Unnamed: 8    0 non-null      float64\n",
      " 9   Order No.1    11 non-null     int64  \n",
      " 10  SKU 1         11 non-null     object \n",
      " 11  SKU 2         5 non-null      object \n",
      " 12  SKU 3         2 non-null      object \n",
      " 13  SKU 4         2 non-null      object \n",
      " 14  SKU 5         2 non-null      object \n",
      " 15  SKU 6         0 non-null      float64\n",
      " 16  SKU 7         0 non-null      float64\n",
      "dtypes: float64(3), int64(9), object(5)\n",
      "memory usage: 1.6+ KB\n",
      "\n",
      "==================================================\n",
      "\n"
     ]
    }
   ],
   "source": [
    "# Going through the data for finding out missing values through all of the sheets for missing values\n",
    "\n",
    "# First we are loading all of the sheets into a dictionary of dataframes\n",
    "\n",
    "dfs = pd.read_excel(file_path, sheet_name = None) #Note that sheet_name is None loads all of the sheets\n",
    "\n",
    "\n",
    "#Now we try to iterate through each sheet for its info\n",
    "for sheet_name, df in list(dfs.items())[1:]:\n",
    "    print(f\"Sheet Name: {sheet_name}\")\n",
    "    df.info()\n",
    "    print(\"\\n\"+ \"=\"*50 + \"\\n\")"
   ]
  },
  {
   "cell_type": "code",
   "execution_count": 9,
   "id": "74ccc91b",
   "metadata": {
    "scrolled": true
   },
   "outputs": [
    {
     "name": "stdout",
     "output_type": "stream",
     "text": [
      "      OrderType OrderCategory CustomerCode CountryName CustomerOrderNo  \\\n",
      "6210    Pc Wise         Order          P-5         USA             NaN   \n",
      "6213    Pc Wise         Order          P-5         USA             NaN   \n",
      "6215    Pc Wise         Order          P-5         USA             NaN   \n",
      "6217    Pc Wise         Order          P-5         USA             NaN   \n",
      "6219    Pc Wise         Order          P-5         USA             NaN   \n",
      "6223    Pc Wise         Order          P-5         USA             NaN   \n",
      "8957  Area Wise         Order           CC       INDIA             NaN   \n",
      "8958  Area Wise         Order           CC       INDIA             NaN   \n",
      "8959  Area Wise         Order           CC       INDIA             NaN   \n",
      "\n",
      "     Custorderdate UnitName  QtyRequired  TotalArea  Amount    ITEM_NAME  \\\n",
      "6210    2017-08-29       Ft           50        6.0  1005.0  HAND TUFTED   \n",
      "6213    2017-08-29       Ft           20       15.0  1005.0  HAND TUFTED   \n",
      "6215    2017-08-29       Ft            5       40.0   670.0  HAND TUFTED   \n",
      "6217    2017-08-29       Ft           10       80.0  2680.0  HAND TUFTED   \n",
      "6219    2017-08-29       Ft           50        3.0   502.5  HAND TUFTED   \n",
      "6223    2017-08-29       Ft           10       20.0   670.0  HAND TUFTED   \n",
      "8957    2018-04-05       Ft            1        6.0     0.0  HAND TUFTED   \n",
      "8958    2018-04-05       Ft            1        6.0     0.0  HAND TUFTED   \n",
      "8959    2018-04-05       Ft            1        6.0     0.0  HAND TUFTED   \n",
      "\n",
      "                QualityName      DesignName    ColorName ShapeName  AreaFt  \n",
      "6210  TUFTED 30C HARD TWIST  PAISELY [8874]        MULTI       REC     6.0  \n",
      "6213  TUFTED 30C HARD TWIST  PAISELY [8874]        MULTI       REC    15.0  \n",
      "6215  TUFTED 30C HARD TWIST  PAISELY [8874]        MULTI       REC    40.0  \n",
      "6217  TUFTED 30C HARD TWIST  PAISELY [8874]        MULTI       REC    80.0  \n",
      "6219  TUFTED 30C HARD TWIST  PAISELY [8874]        MULTI       REC     3.0  \n",
      "6223  TUFTED 30C HARD TWIST  PAISELY [8874]        MULTI       REC    20.0  \n",
      "8957             TUFTED 60C           10041   WHITE/DOVE       REC     6.0  \n",
      "8958             TUFTED 60C           10041  GREY/INDIGO       REC     6.0  \n",
      "8959             TUFTED 60C           10041  WHITE/PETAL       REC     6.0  \n"
     ]
    }
   ],
   "source": [
    "# Observed there are 9 values that are null in first sheet displaying the null values \n",
    "\n",
    "nullRows_CustomerOrderNo = RawDataOrder[RawDataOrder['CustomerOrderNo'].isnull()]\n",
    "print(nullRows_CustomerOrderNo)\n",
    "\n",
    "\n",
    "\n"
   ]
  },
  {
   "cell_type": "code",
   "execution_count": 10,
   "id": "07692675",
   "metadata": {},
   "outputs": [],
   "source": [
    "#Replacing the missing values with the median\n",
    "RawDataOrder['CustomerOrderNo'] = pd.to_numeric(RawDataOrder['CustomerOrderNo'], errors='coerce')\n",
    "regularRowsMedian = RawDataOrder['CustomerOrderNo'].median()\n",
    "\n",
    "RawDataOrder['CustomerOrderNo'] = RawDataOrder['CustomerOrderNo'].fillna(regularRowsMedian)\n"
   ]
  },
  {
   "cell_type": "code",
   "execution_count": 11,
   "id": "3e287d21",
   "metadata": {},
   "outputs": [
    {
     "name": "stdout",
     "output_type": "stream",
     "text": [
      "<class 'pandas.core.frame.DataFrame'>\n",
      "RangeIndex: 18955 entries, 0 to 18954\n",
      "Data columns (total 16 columns):\n",
      " #   Column           Non-Null Count  Dtype         \n",
      "---  ------           --------------  -----         \n",
      " 0   OrderType        18955 non-null  object        \n",
      " 1   OrderCategory    18955 non-null  object        \n",
      " 2   CustomerCode     18955 non-null  object        \n",
      " 3   CountryName      18955 non-null  object        \n",
      " 4   CustomerOrderNo  18955 non-null  float64       \n",
      " 5   Custorderdate    18955 non-null  datetime64[ns]\n",
      " 6   UnitName         18955 non-null  object        \n",
      " 7   QtyRequired      18955 non-null  int64         \n",
      " 8   TotalArea        18955 non-null  float64       \n",
      " 9   Amount           18955 non-null  float64       \n",
      " 10  ITEM_NAME        18955 non-null  object        \n",
      " 11  QualityName      18955 non-null  object        \n",
      " 12  DesignName       18955 non-null  object        \n",
      " 13  ColorName        18955 non-null  object        \n",
      " 14  ShapeName        18955 non-null  object        \n",
      " 15  AreaFt           18955 non-null  float64       \n",
      "dtypes: datetime64[ns](1), float64(4), int64(1), object(10)\n",
      "memory usage: 2.3+ MB\n"
     ]
    }
   ],
   "source": [
    "# as we can see the data is now cleaned for the first sheet\n",
    "RawDataOrder.info()"
   ]
  },
  {
   "cell_type": "code",
   "execution_count": 12,
   "id": "28634774",
   "metadata": {},
   "outputs": [
    {
     "name": "stdout",
     "output_type": "stream",
     "text": [
      "<class 'pandas.core.frame.DataFrame'>\n",
      "RangeIndex: 5820 entries, 0 to 5819\n",
      "Data columns (total 25 columns):\n",
      " #   Column            Non-Null Count  Dtype  \n",
      "---  ------            --------------  -----  \n",
      " 0   CustomerCode      5820 non-null   object \n",
      " 1   CountryName       5820 non-null   object \n",
      " 2   USA               5781 non-null   float64\n",
      " 3   UK                5781 non-null   float64\n",
      " 4   Italy             5781 non-null   float64\n",
      " 5   Belgium           5781 non-null   float64\n",
      " 6   Romania           5781 non-null   float64\n",
      " 7   Australia         5781 non-null   float64\n",
      " 8   India             5781 non-null   float64\n",
      " 9   QtyRequired       5820 non-null   int64  \n",
      " 10  ITEM_NAME         5820 non-null   object \n",
      " 11  Hand Tufted       5820 non-null   int64  \n",
      " 12  Durry             5820 non-null   int64  \n",
      " 13  Double Back       5820 non-null   int64  \n",
      " 14  Hand Woven        5820 non-null   int64  \n",
      " 15  Knotted           5820 non-null   int64  \n",
      " 16  Jacquard          5820 non-null   int64  \n",
      " 17  Handloom          5820 non-null   int64  \n",
      " 18  Other             5820 non-null   int64  \n",
      " 19  ShapeName         5820 non-null   object \n",
      " 20  REC               5820 non-null   int64  \n",
      " 21  Round             5820 non-null   int64  \n",
      " 22  Square            5820 non-null   int64  \n",
      " 23  AreaFt            5820 non-null   float64\n",
      " 24  Order Conversion  5820 non-null   int64  \n",
      "dtypes: float64(8), int64(13), object(4)\n",
      "memory usage: 1.1+ MB\n"
     ]
    }
   ],
   "source": [
    "# Data on Sample Only has some missing values so we can continue cleaning it\n",
    "\n",
    "DataOnSampleOnly.info()"
   ]
  },
  {
   "cell_type": "code",
   "execution_count": 13,
   "id": "ddad909d",
   "metadata": {},
   "outputs": [
    {
     "name": "stdout",
     "output_type": "stream",
     "text": [
      "Column 'CountryName' is not numeric and will be skipped.\n"
     ]
    }
   ],
   "source": [
    "# Identified columns USA to india i.e 2 to 8 have null values so replacing them\n",
    "columnsRemoveNull = DataOnSampleOnly.columns[1:9]\n",
    "\n",
    "#Adding median to every columns from 2 to 8 that contain missing values\n",
    "for column in columnsRemoveNull:\n",
    "    if pd.api.types.is_numeric_dtype(DataOnSampleOnly[column]):\n",
    "        median = DataOnSampleOnly[column].median()\n",
    "        DataOnSampleOnly[column] = DataOnSampleOnly[column].fillna(median)\n",
    "    else:\n",
    "        print(f\"Column '{column}' is not numeric and will be skipped.\")\n"
   ]
  },
  {
   "cell_type": "code",
   "execution_count": 14,
   "id": "b81cb9f3",
   "metadata": {},
   "outputs": [
    {
     "name": "stdout",
     "output_type": "stream",
     "text": [
      "<class 'pandas.core.frame.DataFrame'>\n",
      "RangeIndex: 5820 entries, 0 to 5819\n",
      "Data columns (total 25 columns):\n",
      " #   Column            Non-Null Count  Dtype  \n",
      "---  ------            --------------  -----  \n",
      " 0   CustomerCode      5820 non-null   object \n",
      " 1   CountryName       5820 non-null   object \n",
      " 2   USA               5820 non-null   float64\n",
      " 3   UK                5820 non-null   float64\n",
      " 4   Italy             5820 non-null   float64\n",
      " 5   Belgium           5820 non-null   float64\n",
      " 6   Romania           5820 non-null   float64\n",
      " 7   Australia         5820 non-null   float64\n",
      " 8   India             5820 non-null   float64\n",
      " 9   QtyRequired       5820 non-null   int64  \n",
      " 10  ITEM_NAME         5820 non-null   object \n",
      " 11  Hand Tufted       5820 non-null   int64  \n",
      " 12  Durry             5820 non-null   int64  \n",
      " 13  Double Back       5820 non-null   int64  \n",
      " 14  Hand Woven        5820 non-null   int64  \n",
      " 15  Knotted           5820 non-null   int64  \n",
      " 16  Jacquard          5820 non-null   int64  \n",
      " 17  Handloom          5820 non-null   int64  \n",
      " 18  Other             5820 non-null   int64  \n",
      " 19  ShapeName         5820 non-null   object \n",
      " 20  REC               5820 non-null   int64  \n",
      " 21  Round             5820 non-null   int64  \n",
      " 22  Square            5820 non-null   int64  \n",
      " 23  AreaFt            5820 non-null   float64\n",
      " 24  Order Conversion  5820 non-null   int64  \n",
      "dtypes: float64(8), int64(13), object(4)\n",
      "memory usage: 1.1+ MB\n"
     ]
    }
   ],
   "source": [
    "DataOnSampleOnly.info()"
   ]
  },
  {
   "cell_type": "code",
   "execution_count": 15,
   "id": "b5465cf7",
   "metadata": {
    "scrolled": true
   },
   "outputs": [
    {
     "name": "stdout",
     "output_type": "stream",
     "text": [
      "<class 'pandas.core.frame.DataFrame'>\n",
      "RangeIndex: 20 entries, 0 to 19\n",
      "Data columns (total 42 columns):\n",
      " #   Column        Non-Null Count  Dtype \n",
      "---  ------        --------------  ----- \n",
      " 0   Customer      20 non-null     object\n",
      " 1   Hand Tufted   20 non-null     int64 \n",
      " 2   Double Wowen  20 non-null     int64 \n",
      " 3   Durry         20 non-null     int64 \n",
      " 4   Double Back   20 non-null     int64 \n",
      " 5   Knotted       20 non-null     int64 \n",
      " 6   Jacquared     20 non-null     int64 \n",
      " 7   Handloom      20 non-null     int64 \n",
      " 8   Other         20 non-null     int64 \n",
      " 9   Rectangle     20 non-null     int64 \n",
      " 10  Square        20 non-null     int64 \n",
      " 11  Round         20 non-null     int64 \n",
      " 12  Purple        20 non-null     int64 \n",
      " 13  Gray          20 non-null     int64 \n",
      " 14  Navy          20 non-null     int64 \n",
      " 15  PINK          20 non-null     int64 \n",
      " 16  BLUE          20 non-null     int64 \n",
      " 17  BLUSH PINK    20 non-null     int64 \n",
      " 18  NEUTRAL       20 non-null     int64 \n",
      " 19  TAN           20 non-null     int64 \n",
      " 20  NAVY          20 non-null     int64 \n",
      " 21  Customer .1   20 non-null     object\n",
      " 22  H-2           20 non-null     int64 \n",
      " 23  P-5           20 non-null     int64 \n",
      " 24  M-1           20 non-null     int64 \n",
      " 25  A-9           20 non-null     int64 \n",
      " 26  C-2           20 non-null     int64 \n",
      " 27  JL            20 non-null     int64 \n",
      " 28  N-1           20 non-null     int64 \n",
      " 29  T-5           20 non-null     int64 \n",
      " 30  C-1           20 non-null     int64 \n",
      " 31  T-2           20 non-null     int64 \n",
      " 32  I-2           20 non-null     int64 \n",
      " 33  PD            20 non-null     int64 \n",
      " 34  L-5           20 non-null     int64 \n",
      " 35  M-2           20 non-null     int64 \n",
      " 36  RC            20 non-null     int64 \n",
      " 37  P-4           20 non-null     int64 \n",
      " 38  T-4           20 non-null     int64 \n",
      " 39  PC            20 non-null     int64 \n",
      " 40  A-11          20 non-null     int64 \n",
      " 41  CC            20 non-null     int64 \n",
      "dtypes: int64(40), object(2)\n",
      "memory usage: 6.7+ KB\n",
      "None\n"
     ]
    }
   ],
   "source": [
    "# We have two other rows that have missing values for unnamed columns in data for recommendation\n",
    "\n",
    "RecommendationData = RecommendationData.dropna(axis = 1, how = 'all')\n",
    "\n",
    "print(RecommendationData.info())"
   ]
  },
  {
   "cell_type": "code",
   "execution_count": 16,
   "id": "e161bc23",
   "metadata": {},
   "outputs": [
    {
     "name": "stdout",
     "output_type": "stream",
     "text": [
      "<class 'pandas.core.frame.DataFrame'>\n",
      "RangeIndex: 11 entries, 0 to 10\n",
      "Data columns (total 17 columns):\n",
      " #   Column        Non-Null Count  Dtype  \n",
      "---  ------        --------------  -----  \n",
      " 0   Order No      11 non-null     int64  \n",
      " 1   BEIGE         11 non-null     int64  \n",
      " 2   CHARCOAL      11 non-null     int64  \n",
      " 3   DENIM         11 non-null     int64  \n",
      " 4   DK GREY       11 non-null     int64  \n",
      " 5   LT TURQUOISE  11 non-null     int64  \n",
      " 6   MID GREY      11 non-null     int64  \n",
      " 7   OLIVE GREEN   11 non-null     int64  \n",
      " 8   Unnamed: 8    0 non-null      float64\n",
      " 9   Order No.1    11 non-null     int64  \n",
      " 10  SKU 1         11 non-null     object \n",
      " 11  SKU 2         5 non-null      object \n",
      " 12  SKU 3         2 non-null      object \n",
      " 13  SKU 4         2 non-null      object \n",
      " 14  SKU 5         2 non-null      object \n",
      " 15  SKU 6         0 non-null      float64\n",
      " 16  SKU 7         0 non-null      float64\n",
      "dtypes: float64(3), int64(9), object(5)\n",
      "memory usage: 1.6+ KB\n"
     ]
    }
   ],
   "source": [
    "# The data seems highly irregular and small for the association rules data evaluating the columns\n",
    "AssocRulesData.info()"
   ]
  },
  {
   "cell_type": "code",
   "execution_count": 17,
   "id": "7dfe0fe2",
   "metadata": {},
   "outputs": [
    {
     "name": "stdout",
     "output_type": "stream",
     "text": [
      "0     3314\n",
      "1     3449\n",
      "2     3661\n",
      "3     3662\n",
      "4     3666\n",
      "5     4947\n",
      "6     5443\n",
      "7     5445\n",
      "8     6785\n",
      "9     6790\n",
      "10    7338\n",
      "Name: Order No, dtype: int64\n"
     ]
    }
   ],
   "source": [
    "# Assoc Rules Column evaluation\n",
    "print(AssocRulesData['Order No'])"
   ]
  },
  {
   "cell_type": "code",
   "execution_count": 18,
   "id": "2bbb60a8",
   "metadata": {},
   "outputs": [],
   "source": [
    "# Removing 'Unnamed: 8' column completely\n",
    "AssocRulesData.drop(columns=['Unnamed: 8'], inplace=True)"
   ]
  },
  {
   "cell_type": "code",
   "execution_count": 19,
   "id": "c6c50f29",
   "metadata": {},
   "outputs": [
    {
     "name": "stdout",
     "output_type": "stream",
     "text": [
      "0     3314\n",
      "1     3449\n",
      "2     3661\n",
      "3     3662\n",
      "4     3666\n",
      "5     4947\n",
      "6     5443\n",
      "7     5445\n",
      "8     6785\n",
      "9     6790\n",
      "10    7338\n",
      "Name: Order No.1, dtype: int64\n"
     ]
    }
   ],
   "source": [
    "print(AssocRulesData['Order No.1'])"
   ]
  },
  {
   "cell_type": "code",
   "execution_count": 26,
   "id": "f21e62b6",
   "metadata": {},
   "outputs": [
    {
     "name": "stdout",
     "output_type": "stream",
     "text": [
      "    Order No  BEIGE  CHARCOAL  DENIM  DK GREY  LT TURQUOISE  MID GREY  \\\n",
      "0       3314      1         0      0        1             1         1   \n",
      "1       3449      1         0      0        1             1         1   \n",
      "2       3661      1         0      0        1             0         0   \n",
      "3       3662      1         0      0        1             0         0   \n",
      "4       3666      0         0      0        1             0         0   \n",
      "5       4947      1         0      0        1             0         0   \n",
      "6       5443      0         1      0        0             0         0   \n",
      "7       5445      0         1      0        0             0         0   \n",
      "8       6785      0         0      1        0             0         0   \n",
      "9       6790      0         0      1        0             0         0   \n",
      "10      7338      0         0      1        0             0         0   \n",
      "\n",
      "    OLIVE GREEN  Order No.1     SKU 1    SKU 2         SKU 3     SKU 4  \\\n",
      "0             1        3314     BEIGE  DK GREY  LT TURQUOISE  MID GREY   \n",
      "1             1        3449     BEIGE  DK GREY  LT TURQUOISE  MID GREY   \n",
      "2             0        3661     BEIGE  DK GREY  LT TURQUOISE  MID GREY   \n",
      "3             0        3662     BEIGE  DK GREY  LT TURQUOISE  MID GREY   \n",
      "4             0        3666   DK GREY  DK GREY  LT TURQUOISE  MID GREY   \n",
      "5             0        4947     BEIGE  DK GREY  LT TURQUOISE  MID GREY   \n",
      "6             0        5443  CHARCOAL  DK GREY  LT TURQUOISE  MID GREY   \n",
      "7             0        5445  CHARCOAL  DK GREY  LT TURQUOISE  MID GREY   \n",
      "8             0        6785     DENIM  DK GREY  LT TURQUOISE  MID GREY   \n",
      "9             0        6790     DENIM  DK GREY  LT TURQUOISE  MID GREY   \n",
      "10            0        7338     DENIM  DK GREY  LT TURQUOISE  MID GREY   \n",
      "\n",
      "          SKU 5  SKU 6  SKU 7  \n",
      "0   OLIVE GREEN    NaN    NaN  \n",
      "1   OLIVE GREEN    NaN    NaN  \n",
      "2   OLIVE GREEN    NaN    NaN  \n",
      "3   OLIVE GREEN    NaN    NaN  \n",
      "4   OLIVE GREEN    NaN    NaN  \n",
      "5   OLIVE GREEN    NaN    NaN  \n",
      "6   OLIVE GREEN    NaN    NaN  \n",
      "7   OLIVE GREEN    NaN    NaN  \n",
      "8   OLIVE GREEN    NaN    NaN  \n",
      "9   OLIVE GREEN    NaN    NaN  \n",
      "10  OLIVE GREEN    NaN    NaN  \n"
     ]
    }
   ],
   "source": [
    "# Observing through the SKU columns data\n",
    "# Copy the SKU columns\n",
    "sku_columns = AssocRulesData[['SKU 1', 'SKU 2', 'SKU 3', 'SKU 4', 'SKU 5', 'SKU 6', 'SKU 7']].copy()\n",
    "\n",
    "# Apply forward fill\n",
    "sku_columns.fillna(method='ffill', inplace=True)\n",
    "\n",
    "# Apply backward fill\n",
    "sku_columns.fillna(method='bfill', inplace=True)\n",
    "\n",
    "# Attach the cleaned SKU columns back to the original DataFrame\n",
    "AssocRulesData[['SKU 1', 'SKU 2', 'SKU 3', 'SKU 4', 'SKU 5', 'SKU 6', 'SKU 7']] = sku_columns\n",
    "\n",
    "print(AssocRulesData)"
   ]
  },
  {
   "cell_type": "code",
   "execution_count": 25,
   "id": "621c01bf",
   "metadata": {},
   "outputs": [
    {
     "name": "stderr",
     "output_type": "stream",
     "text": [
      "/var/folders/x8/6khz4yc16k79cclz854dnb5r0000gn/T/ipykernel_71877/2802025486.py:4: SettingWithCopyWarning: \n",
      "A value is trying to be set on a copy of a slice from a DataFrame\n",
      "\n",
      "See the caveats in the documentation: https://pandas.pydata.org/pandas-docs/stable/user_guide/indexing.html#returning-a-view-versus-a-copy\n",
      "  sku_columns.fillna(method='ffill', inplace=True)\n",
      "/var/folders/x8/6khz4yc16k79cclz854dnb5r0000gn/T/ipykernel_71877/2802025486.py:7: SettingWithCopyWarning: \n",
      "A value is trying to be set on a copy of a slice from a DataFrame\n",
      "\n",
      "See the caveats in the documentation: https://pandas.pydata.org/pandas-docs/stable/user_guide/indexing.html#returning-a-view-versus-a-copy\n",
      "  sku_columns.fillna(method='bfill', inplace=True)\n"
     ]
    }
   ],
   "source": []
  },
  {
   "cell_type": "code",
   "execution_count": 22,
   "id": "287bdf17",
   "metadata": {},
   "outputs": [
    {
     "name": "stdout",
     "output_type": "stream",
     "text": [
      "0     LT TURQUOISE\n",
      "1     LT TURQUOISE\n",
      "2              NaN\n",
      "3              NaN\n",
      "4              NaN\n",
      "5              NaN\n",
      "6              NaN\n",
      "7              NaN\n",
      "8              NaN\n",
      "9              NaN\n",
      "10             NaN\n",
      "Name: SKU 3, dtype: object\n"
     ]
    }
   ],
   "source": []
  },
  {
   "cell_type": "code",
   "execution_count": 23,
   "id": "94df9369",
   "metadata": {},
   "outputs": [
    {
     "name": "stdout",
     "output_type": "stream",
     "text": [
      "0     DK GREY\n",
      "1     DK GREY\n",
      "2     DK GREY\n",
      "3     DK GREY\n",
      "4         NaN\n",
      "5     DK GREY\n",
      "6         NaN\n",
      "7         NaN\n",
      "8         NaN\n",
      "9         NaN\n",
      "10        NaN\n",
      "Name: SKU 2, dtype: object\n"
     ]
    }
   ],
   "source": []
  },
  {
   "cell_type": "code",
   "execution_count": null,
   "id": "2e2f60db",
   "metadata": {},
   "outputs": [],
   "source": []
  }
 ],
 "metadata": {
  "kernelspec": {
   "display_name": "Python 3 (ipykernel)",
   "language": "python",
   "name": "python3"
  },
  "language_info": {
   "codemirror_mode": {
    "name": "ipython",
    "version": 3
   },
   "file_extension": ".py",
   "mimetype": "text/x-python",
   "name": "python",
   "nbconvert_exporter": "python",
   "pygments_lexer": "ipython3",
   "version": "3.11.5"
  }
 },
 "nbformat": 4,
 "nbformat_minor": 5
}
